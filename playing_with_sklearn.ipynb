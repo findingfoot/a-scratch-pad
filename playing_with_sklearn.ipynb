{
  "nbformat": 4,
  "nbformat_minor": 0,
  "metadata": {
    "colab": {
      "name": "playing with sklearn.ipynb",
      "version": "0.3.2",
      "provenance": [],
      "include_colab_link": true
    },
    "kernelspec": {
      "name": "python3",
      "display_name": "Python 3"
    }
  },
  "cells": [
    {
      "cell_type": "markdown",
      "metadata": {
        "id": "view-in-github",
        "colab_type": "text"
      },
      "source": [
        "<a href=\"https://colab.research.google.com/github/findingfoot/a-scratch-pad/blob/master/playing_with_sklearn.ipynb\" target=\"_parent\"><img src=\"https://colab.research.google.com/assets/colab-badge.svg\" alt=\"Open In Colab\"/></a>"
      ]
    },
    {
      "metadata": {
        "id": "SPLRr7X452py",
        "colab_type": "code",
        "colab": {}
      },
      "cell_type": "code",
      "source": [
        "from sklearn import datasets\n",
        "\n",
        "\n",
        "digits =  datasets.load_digits()\n",
        "iris = datasets.load_iris()"
      ],
      "execution_count": 0,
      "outputs": []
    },
    {
      "metadata": {
        "id": "8OyFP9Xc6AQa",
        "colab_type": "code",
        "outputId": "a22b3867-df51-4bc4-de38-ead11e19b437",
        "colab": {
          "base_uri": "https://localhost:8080/",
          "height": 139
        }
      },
      "cell_type": "code",
      "source": [
        "from sklearn import svm\n",
        "\n",
        "model = svm.LinearSVC()\n",
        "\n",
        "model_svc = svm.SVC()\n",
        "\n",
        "model.fit(digits.data[:-1], digits.target[:-1])\n",
        "print(model.predict(digits.data[-1:]))\n",
        "\n",
        "model_svc.fit(digits.data[:-1], digits.target[:-1])\n",
        "print(model_svc.predict(digits.data[-1:]))"
      ],
      "execution_count": 0,
      "outputs": [
        {
          "output_type": "stream",
          "text": [
            "/usr/local/lib/python3.6/dist-packages/sklearn/svm/base.py:931: ConvergenceWarning: Liblinear failed to converge, increase the number of iterations.\n",
            "  \"the number of iterations.\", ConvergenceWarning)\n",
            "/usr/local/lib/python3.6/dist-packages/sklearn/svm/base.py:196: FutureWarning: The default value of gamma will change from 'auto' to 'scale' in version 0.22 to account better for unscaled features. Set gamma explicitly to 'auto' or 'scale' to avoid this warning.\n",
            "  \"avoid this warning.\", FutureWarning)\n"
          ],
          "name": "stderr"
        },
        {
          "output_type": "stream",
          "text": [
            "[8]\n",
            "[5]\n"
          ],
          "name": "stdout"
        }
      ]
    },
    {
      "metadata": {
        "id": "p2b5kzFH8-y3",
        "colab_type": "code",
        "outputId": "706bbf89-30d3-480a-ba42-8930a90ebeb9",
        "colab": {
          "base_uri": "https://localhost:8080/",
          "height": 34
        }
      },
      "cell_type": "code",
      "source": [
        "digits.target[-1:]"
      ],
      "execution_count": 0,
      "outputs": [
        {
          "output_type": "execute_result",
          "data": {
            "text/plain": [
              "array([8])"
            ]
          },
          "metadata": {
            "tags": []
          },
          "execution_count": 32
        }
      ]
    },
    {
      "metadata": {
        "id": "3umjKhb18bQZ",
        "colab_type": "code",
        "outputId": "c8df4c4a-b293-42fc-e3b4-3d7ac482791f",
        "colab": {
          "base_uri": "https://localhost:8080/",
          "height": 34
        }
      },
      "cell_type": "code",
      "source": [
        "# saving the model and then loading it again to use for prediction\n",
        "\n",
        "import pickle\n",
        "per_model = pickle.dumps(model_svc)\n",
        "model_svc1 = pickle.loads(per_model)\n",
        "model_svc1.predict(digits.data[0:1])"
      ],
      "execution_count": 0,
      "outputs": [
        {
          "output_type": "execute_result",
          "data": {
            "text/plain": [
              "array([0])"
            ]
          },
          "metadata": {
            "tags": []
          },
          "execution_count": 33
        }
      ]
    },
    {
      "metadata": {
        "id": "J2ALc14Z81uE",
        "colab_type": "code",
        "colab": {}
      },
      "cell_type": "code",
      "source": [
        "from joblib import dump, load"
      ],
      "execution_count": 0,
      "outputs": []
    },
    {
      "metadata": {
        "id": "V5jXlVBh9YeT",
        "colab_type": "code",
        "colab": {}
      },
      "cell_type": "code",
      "source": [
        ""
      ],
      "execution_count": 0,
      "outputs": []
    },
    {
      "metadata": {
        "id": "UGx6mJ3b9v_I",
        "colab_type": "text"
      },
      "cell_type": "markdown",
      "source": [
        "Lets play with the **IRIS** datasets on our own"
      ]
    },
    {
      "metadata": {
        "id": "3cj2wYQ292ov",
        "colab_type": "code",
        "outputId": "76e3f09d-cdc0-4db3-d0a0-c2a78162bc8e",
        "colab": {
          "base_uri": "https://localhost:8080/",
          "height": 139
        }
      },
      "cell_type": "code",
      "source": [
        "model_svc.fit(iris.data, iris.target_names[iris.target])"
      ],
      "execution_count": 0,
      "outputs": [
        {
          "output_type": "stream",
          "text": [
            "/usr/local/lib/python3.6/dist-packages/sklearn/svm/base.py:196: FutureWarning: The default value of gamma will change from 'auto' to 'scale' in version 0.22 to account better for unscaled features. Set gamma explicitly to 'auto' or 'scale' to avoid this warning.\n",
            "  \"avoid this warning.\", FutureWarning)\n"
          ],
          "name": "stderr"
        },
        {
          "output_type": "execute_result",
          "data": {
            "text/plain": [
              "SVC(C=1.0, cache_size=200, class_weight=None, coef0=0.0,\n",
              "  decision_function_shape='ovr', degree=3, gamma='auto_deprecated',\n",
              "  kernel='rbf', max_iter=-1, probability=False, random_state=None,\n",
              "  shrinking=True, tol=0.001, verbose=False)"
            ]
          },
          "metadata": {
            "tags": []
          },
          "execution_count": 35
        }
      ]
    },
    {
      "metadata": {
        "id": "FXvSUNb994VD",
        "colab_type": "code",
        "outputId": "549b9c84-ca40-4976-f45d-3c3b0296b825",
        "colab": {
          "base_uri": "https://localhost:8080/",
          "height": 34
        }
      },
      "cell_type": "code",
      "source": [
        "model_svc.predict(iris.data[:3])"
      ],
      "execution_count": 0,
      "outputs": [
        {
          "output_type": "execute_result",
          "data": {
            "text/plain": [
              "array(['setosa', 'setosa', 'setosa'], dtype='<U10')"
            ]
          },
          "metadata": {
            "tags": []
          },
          "execution_count": 36
        }
      ]
    },
    {
      "metadata": {
        "id": "EpGo18aF-haL",
        "colab_type": "text"
      },
      "cell_type": "markdown",
      "source": [
        "# sklearn has the **set_params**() ..this is used for setting the parameters of the model."
      ]
    },
    {
      "metadata": {
        "id": "jq9uz-SA-lWN",
        "colab_type": "code",
        "outputId": "c912078e-2c73-4433-9f11-07a358a54ef2",
        "colab": {
          "base_uri": "https://localhost:8080/",
          "height": 34
        }
      },
      "cell_type": "code",
      "source": [
        "# Multiclass Classifier\n",
        "\n",
        "from sklearn.svm import SVC\n",
        "from sklearn.multiclass import OneVsRestClassifier\n",
        "from sklearn.preprocessing import LabelBinarizer\n",
        "\n",
        "\n",
        "X = [[1,3], [2,4], [4,6], [3,5], [3,6]]\n",
        "y = [0,1,1,1,2]\n",
        "\n",
        "clf = OneVsRestClassifier(estimator=SVC(gamma = 'scale',random_state = 0))\n",
        "clf.fit(X,y).predict([[3,1]])"
      ],
      "execution_count": 0,
      "outputs": [
        {
          "output_type": "execute_result",
          "data": {
            "text/plain": [
              "array([1])"
            ]
          },
          "metadata": {
            "tags": []
          },
          "execution_count": 37
        }
      ]
    },
    {
      "metadata": {
        "id": "oniYgwN9By4F",
        "colab_type": "code",
        "outputId": "8f4527cc-7fc4-4e35-f0d3-c5e6ec65f33e",
        "colab": {
          "base_uri": "https://localhost:8080/",
          "height": 364
        }
      },
      "cell_type": "code",
      "source": [
        "digits.images.shape\n",
        "\n",
        "import matplotlib.pyplot as plt\n",
        "plt.imshow(digits.images[-1],cmap='BuPu')"
      ],
      "execution_count": 0,
      "outputs": [
        {
          "output_type": "execute_result",
          "data": {
            "text/plain": [
              "<matplotlib.image.AxesImage at 0x7f4058936390>"
            ]
          },
          "metadata": {
            "tags": []
          },
          "execution_count": 38
        },
        {
          "output_type": "display_data",
          "data": {
            "image/png": "[encoded data removed]",
            "text/plain": [
              "<Figure size 576x396 with 1 Axes>"
            ]
          },
          "metadata": {
            "tags": []
          }
        }
      ]
    },
    {
      "metadata": {
        "id": "KO-WLBcbD8As",
        "colab_type": "code",
        "colab": {}
      },
      "cell_type": "code",
      "source": [
        "data = digits.images.reshape((digits.images.shape[0], -1))"
      ],
      "execution_count": 0,
      "outputs": []
    },
    {
      "metadata": {
        "id": "nkFWaZTpFA8Y",
        "colab_type": "code",
        "outputId": "b02f45b6-ab39-459d-addf-dcfa1638ed7c",
        "colab": {
          "base_uri": "https://localhost:8080/",
          "height": 34
        }
      },
      "cell_type": "code",
      "source": [
        "data.shape"
      ],
      "execution_count": 0,
      "outputs": [
        {
          "output_type": "execute_result",
          "data": {
            "text/plain": [
              "(1797, 64)"
            ]
          },
          "metadata": {
            "tags": []
          },
          "execution_count": 40
        }
      ]
    },
    {
      "metadata": {
        "id": "82nV-TayFhQF",
        "colab_type": "code",
        "colab": {}
      },
      "cell_type": "code",
      "source": [
        "#lets dive into the k nearest neighbour\n",
        "\n",
        "# split the data into train and test data set. we would need a random seed to split the data randomly.\n",
        "\n",
        "# KNeighborClassifer\n",
        "from sklearn.neighbors import KNeighborsClassifier\n",
        "import numpy as np\n",
        "\n",
        "iris_X = iris.data\n",
        "iris_y = iris.target\n",
        "\n",
        "np.random.seed(2)\n",
        "\n",
        "indices = np.random.permutation(len(iris_X))"
      ],
      "execution_count": 0,
      "outputs": []
    },
    {
      "metadata": {
        "id": "WL4uAGIuuzw3",
        "colab_type": "text"
      },
      "cell_type": "markdown",
      "source": [
        "# **K Nearest Neighbors**"
      ]
    },
    {
      "metadata": {
        "id": "GL_OEzww9G1z",
        "colab_type": "code",
        "colab": {}
      },
      "cell_type": "code",
      "source": [
        "iris_X_train = iris_X[indices[:-10]]\n",
        "iris_y_train = iris_y[indices[:-10]]\n",
        "\n",
        "iris_X_test = iris_X[indices[-10:]]\n",
        "iris_y_test = iris_y[indices[-10:]]\n"
      ],
      "execution_count": 0,
      "outputs": []
    },
    {
      "metadata": {
        "id": "7Fyk29yc-Dy6",
        "colab_type": "code",
        "outputId": "62a5dff3-fdd1-4a05-d98c-618752082901",
        "colab": {
          "base_uri": "https://localhost:8080/",
          "height": 34
        }
      },
      "cell_type": "code",
      "source": [
        "model = KNeighborsClassifier()\n",
        "model.fit(iris_X_train, iris_y_train)\n",
        "KNeighborsClassifier(algorithm='auto', leaf_size=30, metric='minkowski', n_neighbors=5, p=2, weights = 'uniform')\n",
        "\n",
        "model.predict(iris_X_test)"
      ],
      "execution_count": 0,
      "outputs": [
        {
          "output_type": "execute_result",
          "data": {
            "text/plain": [
              "array([0, 2, 1, 0, 2, 1, 0, 0, 2, 0])"
            ]
          },
          "metadata": {
            "tags": []
          },
          "execution_count": 27
        }
      ]
    },
    {
      "metadata": {
        "id": "zcq9gDNOILdI",
        "colab_type": "code",
        "outputId": "b8ec8a39-6117-4d03-d873-38bb0cf8681f",
        "colab": {
          "base_uri": "https://localhost:8080/",
          "height": 34
        }
      },
      "cell_type": "code",
      "source": [
        "iris_y_test"
      ],
      "execution_count": 0,
      "outputs": [
        {
          "output_type": "execute_result",
          "data": {
            "text/plain": [
              "array([0, 2, 1, 0, 2, 1, 0, 0, 1, 0])"
            ]
          },
          "metadata": {
            "tags": []
          },
          "execution_count": 29
        }
      ]
    },
    {
      "metadata": {
        "id": "JnSzV49iu63i",
        "colab_type": "text"
      },
      "cell_type": "markdown",
      "source": [
        "# Diabetes Dataset Linear Regression"
      ]
    },
    {
      "metadata": {
        "id": "roFSfMeeIVX5",
        "colab_type": "code",
        "colab": {}
      },
      "cell_type": "code",
      "source": [
        "diabetes = datasets.load_diabetes()\n"
      ],
      "execution_count": 0,
      "outputs": []
    },
    {
      "metadata": {
        "id": "f-C7GTxKvJPH",
        "colab_type": "code",
        "outputId": "77a74ac7-2ff8-4cc9-e4e7-210c6880fec2",
        "colab": {
          "base_uri": "https://localhost:8080/",
          "height": 34
        }
      },
      "cell_type": "code",
      "source": [
        "diabetes.data.shape"
      ],
      "execution_count": 0,
      "outputs": [
        {
          "output_type": "execute_result",
          "data": {
            "text/plain": [
              "(442, 10)"
            ]
          },
          "metadata": {
            "tags": []
          },
          "execution_count": 50
        }
      ]
    },
    {
      "metadata": {
        "id": "MUVhN807vK5K",
        "colab_type": "code",
        "outputId": "382d7587-3214-4934-848b-34d1cf2368d5",
        "colab": {
          "base_uri": "https://localhost:8080/",
          "height": 714
        }
      },
      "cell_type": "code",
      "source": [
        "diabetes.feature_names\n",
        "diabetes.target"
      ],
      "execution_count": 0,
      "outputs": [
        {
          "output_type": "execute_result",
          "data": {
            "text/plain": [
              "array([151.,  75., 141., 206., 135.,  97., 138.,  63., 110., 310., 101.,\n",
              "        69., 179., 185., 118., 171., 166., 144.,  97., 168.,  68.,  49.,\n",
              "        68., 245., 184., 202., 137.,  85., 131., 283., 129.,  59., 341.,\n",
              "        87.,  65., 102., 265., 276., 252.,  90., 100.,  55.,  61.,  92.,\n",
              "       259.,  53., 190., 142.,  75., 142., 155., 225.,  59., 104., 182.,\n",
              "       128.,  52.,  37., 170., 170.,  61., 144.,  52., 128.,  71., 163.,\n",
              "       150.,  97., 160., 178.,  48., 270., 202., 111.,  85.,  42., 170.,\n",
              "       200., 252., 113., 143.,  51.,  52., 210.,  65., 141.,  55., 134.,\n",
              "        42., 111.,  98., 164.,  48.,  96.,  90., 162., 150., 279.,  92.,\n",
              "        83., 128., 102., 302., 198.,  95.,  53., 134., 144., 232.,  81.,\n",
              "       104.,  59., 246., 297., 258., 229., 275., 281., 179., 200., 200.,\n",
              "       173., 180.,  84., 121., 161.,  99., 109., 115., 268., 274., 158.,\n",
              "       107.,  83., 103., 272.,  85., 280., 336., 281., 118., 317., 235.,\n",
              "        60., 174., 259., 178., 128.,  96., 126., 288.,  88., 292.,  71.,\n",
              "       197., 186.,  25.,  84.,  96., 195.,  53., 217., 172., 131., 214.,\n",
              "        59.,  70., 220., 268., 152.,  47.,  74., 295., 101., 151., 127.,\n",
              "       237., 225.,  81., 151., 107.,  64., 138., 185., 265., 101., 137.,\n",
              "       143., 141.,  79., 292., 178.,  91., 116.,  86., 122.,  72., 129.,\n",
              "       142.,  90., 158.,  39., 196., 222., 277.,  99., 196., 202., 155.,\n",
              "        77., 191.,  70.,  73.,  49.,  65., 263., 248., 296., 214., 185.,\n",
              "        78.,  93., 252., 150.,  77., 208.,  77., 108., 160.,  53., 220.,\n",
              "       154., 259.,  90., 246., 124.,  67.,  72., 257., 262., 275., 177.,\n",
              "        71.,  47., 187., 125.,  78.,  51., 258., 215., 303., 243.,  91.,\n",
              "       150., 310., 153., 346.,  63.,  89.,  50.,  39., 103., 308., 116.,\n",
              "       145.,  74.,  45., 115., 264.,  87., 202., 127., 182., 241.,  66.,\n",
              "        94., 283.,  64., 102., 200., 265.,  94., 230., 181., 156., 233.,\n",
              "        60., 219.,  80.,  68., 332., 248.,  84., 200.,  55.,  85.,  89.,\n",
              "        31., 129.,  83., 275.,  65., 198., 236., 253., 124.,  44., 172.,\n",
              "       114., 142., 109., 180., 144., 163., 147.,  97., 220., 190., 109.,\n",
              "       191., 122., 230., 242., 248., 249., 192., 131., 237.,  78., 135.,\n",
              "       244., 199., 270., 164.,  72.,  96., 306.,  91., 214.,  95., 216.,\n",
              "       263., 178., 113., 200., 139., 139.,  88., 148.,  88., 243.,  71.,\n",
              "        77., 109., 272.,  60.,  54., 221.,  90., 311., 281., 182., 321.,\n",
              "        58., 262., 206., 233., 242., 123., 167.,  63., 197.,  71., 168.,\n",
              "       140., 217., 121., 235., 245.,  40.,  52., 104., 132.,  88.,  69.,\n",
              "       219.,  72., 201., 110.,  51., 277.,  63., 118.,  69., 273., 258.,\n",
              "        43., 198., 242., 232., 175.,  93., 168., 275., 293., 281.,  72.,\n",
              "       140., 189., 181., 209., 136., 261., 113., 131., 174., 257.,  55.,\n",
              "        84.,  42., 146., 212., 233.,  91., 111., 152., 120.,  67., 310.,\n",
              "        94., 183.,  66., 173.,  72.,  49.,  64.,  48., 178., 104., 132.,\n",
              "       220.,  57.])"
            ]
          },
          "metadata": {
            "tags": []
          },
          "execution_count": 51
        }
      ]
    },
    {
      "metadata": {
        "id": "nIdEZq--vUmp",
        "colab_type": "code",
        "colab": {}
      },
      "cell_type": "code",
      "source": [
        "dia_X_train = diabetes.data[:-10]\n",
        "dia_y_train = diabetes.target[:-10]\n",
        "\n",
        "dia_X_test = diabetes.data[-10:]\n",
        "dia_y_test = diabetes.target[-10:]"
      ],
      "execution_count": 0,
      "outputs": []
    },
    {
      "metadata": {
        "id": "jbFNV5bwwHUA",
        "colab_type": "code",
        "outputId": "0d92e17c-a0ae-43f4-a5cc-3648e4782abd",
        "colab": {
          "base_uri": "https://localhost:8080/",
          "height": 51
        }
      },
      "cell_type": "code",
      "source": [
        "from sklearn.linear_model import LinearRegression\n",
        "\n",
        "reg_mod = LinearRegression()\n",
        "\n",
        "reg_mod.fit(dia_X_train, dia_y_train)"
      ],
      "execution_count": 0,
      "outputs": [
        {
          "output_type": "execute_result",
          "data": {
            "text/plain": [
              "LinearRegression(copy_X=True, fit_intercept=True, n_jobs=None,\n",
              "         normalize=False)"
            ]
          },
          "metadata": {
            "tags": []
          },
          "execution_count": 54
        }
      ]
    },
    {
      "metadata": {
        "id": "o4bWNf6DwYZv",
        "colab_type": "code",
        "outputId": "4fd5581a-de9a-4f9c-cf6d-5ce50f16ec82",
        "colab": {
          "base_uri": "https://localhost:8080/",
          "height": 51
        }
      },
      "cell_type": "code",
      "source": [
        "print(reg_mod.coef_)"
      ],
      "execution_count": 0,
      "outputs": [
        {
          "output_type": "stream",
          "text": [
            "[  -7.69208948 -249.13553938  520.78304932  322.69632935 -759.01946177\n",
            "  464.23550399   69.98943143  149.72236267  736.85180204   77.1057682 ]\n"
          ],
          "name": "stdout"
        }
      ]
    },
    {
      "metadata": {
        "id": "LgSjCKONwldV",
        "colab_type": "code",
        "outputId": "1a109d7e-6edb-4094-e140-7199f6c93a1d",
        "colab": {
          "base_uri": "https://localhost:8080/",
          "height": 34
        }
      },
      "cell_type": "code",
      "source": [
        "#mean squared error\n",
        "\n",
        "np.mean((reg_mod.predict(dia_X_test) - dia_y_test)**2)"
      ],
      "execution_count": 0,
      "outputs": [
        {
          "output_type": "execute_result",
          "data": {
            "text/plain": [
              "1304.1502807583972"
            ]
          },
          "metadata": {
            "tags": []
          },
          "execution_count": 57
        }
      ]
    },
    {
      "metadata": {
        "id": "FLODmweUw0tE",
        "colab_type": "code",
        "outputId": "271d5a7a-1010-4fd7-b986-83d70873d445",
        "colab": {
          "base_uri": "https://localhost:8080/",
          "height": 34
        }
      },
      "cell_type": "code",
      "source": [
        "#variance score. 1 is better prediction while 0 means that there is no linear relationship between x and y\n",
        "\n",
        "reg_mod.score(dia_X_test, dia_y_test)"
      ],
      "execution_count": 0,
      "outputs": [
        {
          "output_type": "execute_result",
          "data": {
            "text/plain": [
              "0.628934567204214"
            ]
          },
          "metadata": {
            "tags": []
          },
          "execution_count": 58
        }
      ]
    },
    {
      "metadata": {
        "id": "GR5cKTJczvtF",
        "colab_type": "text"
      },
      "cell_type": "markdown",
      "source": [
        "Ridge regularizer is about skrinking the regression coefficients to 0. Having a more closer representation of the underlying function.\n",
        "It is also the example of the bias/variance tradeoff.\n",
        "\n",
        "Ridge Regression has **alpha** parameter. **Higher alpha means higher bias and low variance**.\n"
      ]
    },
    {
      "metadata": {
        "id": "dUK1ohkI0pgQ",
        "colab_type": "text"
      },
      "cell_type": "markdown",
      "source": [
        "Capturing in the noise in the data that prevents the model from generalizing to new data is called **overfitting**. The bias introduced by the ridge regression is called **regularization**."
      ]
    },
    {
      "metadata": {
        "id": "Sg-M-5t96Mxj",
        "colab_type": "text"
      },
      "cell_type": "markdown",
      "source": [
        "**LASSO** - least absolute shrinkage and selection operator. *it is helpful when we have a lot of features and we are looking to have features that are important and set the non important ones to 0.* LASSO helps in setting the coefficients to 0 for some of the features. Such methods are called **sparse** method.\n",
        "\n",
        "\n",
        "LASSO solves the problem using coordinate descent method. this is efficient on large datasets. We also have the LassoLars method."
      ]
    },
    {
      "metadata": {
        "id": "NLnywLan01Kb",
        "colab_type": "code",
        "outputId": "00b40e5a-4317-41f5-9ee7-0e3015228ef4",
        "colab": {
          "base_uri": "https://localhost:8080/",
          "height": 173
        }
      },
      "cell_type": "code",
      "source": [
        "\n",
        "# Classification task\n",
        "\n",
        "from sklearn import linear_model\n",
        "\n",
        "log = linear_model.LogisticRegression()\n",
        "log.fit(iris_X_train, iris_y_train)"
      ],
      "execution_count": 0,
      "outputs": [
        {
          "output_type": "stream",
          "text": [
            "/usr/local/lib/python3.6/dist-packages/sklearn/linear_model/logistic.py:433: FutureWarning: Default solver will be changed to 'lbfgs' in 0.22. Specify a solver to silence this warning.\n",
            "  FutureWarning)\n",
            "/usr/local/lib/python3.6/dist-packages/sklearn/linear_model/logistic.py:460: FutureWarning: Default multi_class will be changed to 'auto' in 0.22. Specify the multi_class option to silence this warning.\n",
            "  \"this warning.\", FutureWarning)\n"
          ],
          "name": "stderr"
        },
        {
          "output_type": "execute_result",
          "data": {
            "text/plain": [
              "LogisticRegression(C=1.0, class_weight=None, dual=False, fit_intercept=True,\n",
              "          intercept_scaling=1, max_iter=100, multi_class='warn',\n",
              "          n_jobs=None, penalty='l2', random_state=None, solver='warn',\n",
              "          tol=0.0001, verbose=0, warm_start=False)"
            ]
          },
          "metadata": {
            "tags": []
          },
          "execution_count": 81
        }
      ]
    },
    {
      "metadata": {
        "id": "Xiq5EstP9Cdm",
        "colab_type": "text"
      },
      "cell_type": "markdown",
      "source": [
        "**MultiClass classification**\n",
        "  \n",
        "  OneVsAll classifiers\n",
        "  \n",
        "  it is used for multiclass classification and then use a voting method for the final decision"
      ]
    },
    {
      "metadata": {
        "id": "aOEp5Y8I7cbD",
        "colab_type": "code",
        "colab": {}
      },
      "cell_type": "code",
      "source": [
        ""
      ],
      "execution_count": 0,
      "outputs": []
    },
    {
      "metadata": {
        "id": "MJ0vuy2i6D_b",
        "colab_type": "text"
      },
      "cell_type": "markdown",
      "source": [
        "# Sklearn Preprocessing"
      ]
    },
    {
      "metadata": {
        "id": "SRktI0NSOuPg",
        "colab_type": "code",
        "colab": {}
      },
      "cell_type": "code",
      "source": [
        "from __future__ import print_function\n",
        "\n",
        "import numpy as np\n",
        "import matplotlib as mpl\n",
        "from matplotlib import pyplot as plt\n",
        "from matplotlib import cm\n",
        "\n",
        "from sklearn.preprocessing import MinMaxScaler\n",
        "from sklearn.preprocessing import minmax_scale\n",
        "from sklearn.preprocessing import MaxAbsScaler\n",
        "from sklearn.preprocessing import StandardScaler\n",
        "from sklearn.preprocessing import RobustScaler\n",
        "from sklearn.preprocessing import Normalizer\n",
        "from sklearn.preprocessing import QuantileTransformer\n",
        "from sklearn.preprocessing import PowerTransformer"
      ],
      "execution_count": 0,
      "outputs": []
    },
    {
      "metadata": {
        "id": "v3gHDn-46dFY",
        "colab_type": "code",
        "colab": {}
      },
      "cell_type": "code",
      "source": [
        ""
      ],
      "execution_count": 0,
      "outputs": []
    }
  ]
}