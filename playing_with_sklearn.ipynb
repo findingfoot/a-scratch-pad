{
  "nbformat": 4,
  "nbformat_minor": 0,
  "metadata": {
    "colab": {
      "name": "playing with sklearn.ipynb",
      "version": "0.3.2",
      "provenance": [],
      "include_colab_link": true
    },
    "kernelspec": {
      "name": "python3",
      "display_name": "Python 3"
    }
  },
  "cells": [
    {
      "cell_type": "markdown",
      "metadata": {
        "id": "view-in-github",
        "colab_type": "text"
      },
      "source": [
        "<a href=\"https://colab.research.google.com/github/findingfoot/a-scratch-pad/blob/master/playing_with_sklearn.ipynb\" target=\"_parent\"><img src=\"https://colab.research.google.com/assets/colab-badge.svg\" alt=\"Open In Colab\"/></a>"
      ]
    },
    {
      "metadata": {
        "id": "SPLRr7X452py",
        "colab_type": "code",
        "colab": {}
      },
      "cell_type": "code",
      "source": [
        "from sklearn import datasets\n",
        "\n",
        "\n",
        "digits =  datasets.load_digits()\n",
        "iris = datasets.load_iris()"
      ],
      "execution_count": 0,
      "outputs": []
    },
    {
      "metadata": {
        "id": "8OyFP9Xc6AQa",
        "colab_type": "code",
        "outputId": "a22b3867-df51-4bc4-de38-ead11e19b437",
        "colab": {
          "base_uri": "https://localhost:8080/",
          "height": 139
        }
      },
      "cell_type": "code",
      "source": [
        "from sklearn import svm\n",
        "\n",
        "model = svm.LinearSVC()\n",
        "\n",
        "model_svc = svm.SVC()\n",
        "\n",
        "model.fit(digits.data[:-1], digits.target[:-1])\n",
        "print(model.predict(digits.data[-1:]))\n",
        "\n",
        "model_svc.fit(digits.data[:-1], digits.target[:-1])\n",
        "print(model_svc.predict(digits.data[-1:]))"
      ],
      "execution_count": 31,
      "outputs": [
        {
          "output_type": "stream",
          "text": [
            "/usr/local/lib/python3.6/dist-packages/sklearn/svm/base.py:931: ConvergenceWarning: Liblinear failed to converge, increase the number of iterations.\n",
            "  \"the number of iterations.\", ConvergenceWarning)\n",
            "/usr/local/lib/python3.6/dist-packages/sklearn/svm/base.py:196: FutureWarning: The default value of gamma will change from 'auto' to 'scale' in version 0.22 to account better for unscaled features. Set gamma explicitly to 'auto' or 'scale' to avoid this warning.\n",
            "  \"avoid this warning.\", FutureWarning)\n"
          ],
          "name": "stderr"
        },
        {
          "output_type": "stream",
          "text": [
            "[8]\n",
            "[5]\n"
          ],
          "name": "stdout"
        }
      ]
    },
    {
      "metadata": {
        "id": "p2b5kzFH8-y3",
        "colab_type": "code",
        "outputId": "706bbf89-30d3-480a-ba42-8930a90ebeb9",
        "colab": {
          "base_uri": "https://localhost:8080/",
          "height": 34
        }
      },
      "cell_type": "code",
      "source": [
        "digits.target[-1:]"
      ],
      "execution_count": 32,
      "outputs": [
        {
          "output_type": "execute_result",
          "data": {
            "text/plain": [
              "array([8])"
            ]
          },
          "metadata": {
            "tags": []
          },
          "execution_count": 32
        }
      ]
    },
    {
      "metadata": {
        "id": "3umjKhb18bQZ",
        "colab_type": "code",
        "outputId": "c8df4c4a-b293-42fc-e3b4-3d7ac482791f",
        "colab": {
          "base_uri": "https://localhost:8080/",
          "height": 34
        }
      },
      "cell_type": "code",
      "source": [
        "# saving the model and then loading it again to use for prediction\n",
        "\n",
        "import pickle\n",
        "per_model = pickle.dumps(model_svc)\n",
        "model_svc1 = pickle.loads(per_model)\n",
        "model_svc1.predict(digits.data[0:1])"
      ],
      "execution_count": 33,
      "outputs": [
        {
          "output_type": "execute_result",
          "data": {
            "text/plain": [
              "array([0])"
            ]
          },
          "metadata": {
            "tags": []
          },
          "execution_count": 33
        }
      ]
    },
    {
      "metadata": {
        "id": "J2ALc14Z81uE",
        "colab_type": "code",
        "colab": {}
      },
      "cell_type": "code",
      "source": [
        "from joblib import dump, load"
      ],
      "execution_count": 0,
      "outputs": []
    },
    {
      "metadata": {
        "id": "V5jXlVBh9YeT",
        "colab_type": "code",
        "colab": {}
      },
      "cell_type": "code",
      "source": [
        ""
      ],
      "execution_count": 0,
      "outputs": []
    },
    {
      "metadata": {
        "id": "UGx6mJ3b9v_I",
        "colab_type": "text"
      },
      "cell_type": "markdown",
      "source": [
        "Lets play with the **IRIS** datasets on our own"
      ]
    },
    {
      "metadata": {
        "id": "3cj2wYQ292ov",
        "colab_type": "code",
        "outputId": "76e3f09d-cdc0-4db3-d0a0-c2a78162bc8e",
        "colab": {
          "base_uri": "https://localhost:8080/",
          "height": 139
        }
      },
      "cell_type": "code",
      "source": [
        "model_svc.fit(iris.data, iris.target_names[iris.target])"
      ],
      "execution_count": 35,
      "outputs": [
        {
          "output_type": "stream",
          "text": [
            "/usr/local/lib/python3.6/dist-packages/sklearn/svm/base.py:196: FutureWarning: The default value of gamma will change from 'auto' to 'scale' in version 0.22 to account better for unscaled features. Set gamma explicitly to 'auto' or 'scale' to avoid this warning.\n",
            "  \"avoid this warning.\", FutureWarning)\n"
          ],
          "name": "stderr"
        },
        {
          "output_type": "execute_result",
          "data": {
            "text/plain": [
              "SVC(C=1.0, cache_size=200, class_weight=None, coef0=0.0,\n",
              "  decision_function_shape='ovr', degree=3, gamma='auto_deprecated',\n",
              "  kernel='rbf', max_iter=-1, probability=False, random_state=None,\n",
              "  shrinking=True, tol=0.001, verbose=False)"
            ]
          },
          "metadata": {
            "tags": []
          },
          "execution_count": 35
        }
      ]
    },
    {
      "metadata": {
        "id": "FXvSUNb994VD",
        "colab_type": "code",
        "outputId": "549b9c84-ca40-4976-f45d-3c3b0296b825",
        "colab": {
          "base_uri": "https://localhost:8080/",
          "height": 34
        }
      },
      "cell_type": "code",
      "source": [
        "model_svc.predict(iris.data[:3])"
      ],
      "execution_count": 36,
      "outputs": [
        {
          "output_type": "execute_result",
          "data": {
            "text/plain": [
              "array(['setosa', 'setosa', 'setosa'], dtype='<U10')"
            ]
          },
          "metadata": {
            "tags": []
          },
          "execution_count": 36
        }
      ]
    },
    {
      "metadata": {
        "id": "EpGo18aF-haL",
        "colab_type": "text"
      },
      "cell_type": "markdown",
      "source": [
        "# sklearn has the **set_params**() ..this is used for setting the parameters of the model."
      ]
    },
    {
      "metadata": {
        "id": "jq9uz-SA-lWN",
        "colab_type": "code",
        "outputId": "c912078e-2c73-4433-9f11-07a358a54ef2",
        "colab": {
          "base_uri": "https://localhost:8080/",
          "height": 34
        }
      },
      "cell_type": "code",
      "source": [
        "# Multiclass Classifier\n",
        "\n",
        "from sklearn.svm import SVC\n",
        "from sklearn.multiclass import OneVsRestClassifier\n",
        "from sklearn.preprocessing import LabelBinarizer\n",
        "\n",
        "\n",
        "X = [[1,3], [2,4], [4,6], [3,5], [3,6]]\n",
        "y = [0,1,1,1,2]\n",
        "\n",
        "clf = OneVsRestClassifier(estimator=SVC(gamma = 'scale',random_state = 0))\n",
        "clf.fit(X,y).predict([[3,1]])"
      ],
      "execution_count": 37,
      "outputs": [
        {
          "output_type": "execute_result",
          "data": {
            "text/plain": [
              "array([1])"
            ]
          },
          "metadata": {
            "tags": []
          },
          "execution_count": 37
        }
      ]
    },
    {
      "metadata": {
        "id": "oniYgwN9By4F",
        "colab_type": "code",
        "outputId": "8f4527cc-7fc4-4e35-f0d3-c5e6ec65f33e",
        "colab": {
          "base_uri": "https://localhost:8080/",
          "height": 364
        }
      },
      "cell_type": "code",
      "source": [
        "digits.images.shape\n",
        "\n",
        "import matplotlib.pyplot as plt\n",
        "plt.imshow(digits.images[-1],cmap='BuPu')"
      ],
      "execution_count": 38,
      "outputs": [
        {
          "output_type": "execute_result",
          "data": {
            "text/plain": [
              "<matplotlib.image.AxesImage at 0x7f4058936390>"
            ]
          },
          "metadata": {
            "tags": []
          },
          "execution_count": 38
        },
        {
          "output_type": "display_data",
          "data": {
            "image/png": "[encoded data removed]",
            "text/plain": [
              "<Figure size 576x396 with 1 Axes>"
            ]
          },
          "metadata": {
            "tags": []
          }
        }
      ]
    },
    {
      "metadata": {
        "id": "KO-WLBcbD8As",
        "colab_type": "code",
        "colab": {}
      },
      "cell_type": "code",
      "source": [
        "data = digits.images.reshape((digits.images.shape[0], -1))"
      ],
      "execution_count": 0,
      "outputs": []
    },
    {
      "metadata": {
        "id": "nkFWaZTpFA8Y",
        "colab_type": "code",
        "outputId": "b02f45b6-ab39-459d-addf-dcfa1638ed7c",
        "colab": {
          "base_uri": "https://localhost:8080/",
          "height": 34
        }
      },
      "cell_type": "code",
      "source": [
        "data.shape"
      ],
      "execution_count": 40,
      "outputs": [
        {
          "output_type": "execute_result",
          "data": {
            "text/plain": [
              "(1797, 64)"
            ]
          },
          "metadata": {
            "tags": []
          },
          "execution_count": 40
        }
      ]
    },
    {
      "metadata": {
        "id": "82nV-TayFhQF",
        "colab_type": "code",
        "colab": {}
      },
      "cell_type": "code",
      "source": [
        "#lets dive into the k nearest neighbour\n",
        "\n",
        "# split the data into train and test data set. we would need a random seed to split the data randomly.\n",
        "\n",
        "# KNeighborClassifer\n",
        "from sklearn.neighbors import KNeighborsClassifier\n",
        "import numpy as np\n",
        "\n",
        "iris_X = iris.data\n",
        "iris_y = iris.target\n",
        "\n",
        "np.random.seed(2)\n",
        "\n",
        "indices = np.random.permutation(len(iris_X))"
      ],
      "execution_count": 0,
      "outputs": []
    },
    {
      "metadata": {
        "id": "GL_OEzww9G1z",
        "colab_type": "code",
        "colab": {}
      },
      "cell_type": "code",
      "source": [
        "iris_X_train = iris_X[indices[:-10]]\n",
        "iris_y_train = iris_y[indices[:-10]]\n",
        "\n",
        "iris_X_test = iris_X[indices[-10:]]\n",
        "iris_y_test = iris_y[indices[-10:]]\n"
      ],
      "execution_count": 0,
      "outputs": []
    },
    {
      "metadata": {
        "id": "7Fyk29yc-Dy6",
        "colab_type": "code",
        "colab": {
          "base_uri": "https://localhost:8080/",
          "height": 34
        },
        "outputId": "62a5dff3-fdd1-4a05-d98c-618752082901"
      },
      "cell_type": "code",
      "source": [
        "model = KNeighborsClassifier()\n",
        "model.fit(iris_X_train, iris_y_train)\n",
        "KNeighborsClassifier(algorithm='auto', leaf_size=30, metric='minkowski', n_neighbors=5, p=2, weights = 'uniform')\n",
        "\n",
        "model.predict(iris_X_test)"
      ],
      "execution_count": 27,
      "outputs": [
        {
          "output_type": "execute_result",
          "data": {
            "text/plain": [
              "array([0, 2, 1, 0, 2, 1, 0, 0, 2, 0])"
            ]
          },
          "metadata": {
            "tags": []
          },
          "execution_count": 27
        }
      ]
    },
    {
      "metadata": {
        "id": "zcq9gDNOILdI",
        "colab_type": "code",
        "colab": {
          "base_uri": "https://localhost:8080/",
          "height": 34
        },
        "outputId": "b8ec8a39-6117-4d03-d873-38bb0cf8681f"
      },
      "cell_type": "code",
      "source": [
        "iris_y_test"
      ],
      "execution_count": 29,
      "outputs": [
        {
          "output_type": "execute_result",
          "data": {
            "text/plain": [
              "array([0, 2, 1, 0, 2, 1, 0, 0, 1, 0])"
            ]
          },
          "metadata": {
            "tags": []
          },
          "execution_count": 29
        }
      ]
    },
    {
      "metadata": {
        "id": "roFSfMeeIVX5",
        "colab_type": "code",
        "colab": {}
      },
      "cell_type": "code",
      "source": [
        ""
      ],
      "execution_count": 0,
      "outputs": []
    }
  ]
}